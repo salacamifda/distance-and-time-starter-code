{
  "nbformat": 4,
  "nbformat_minor": 0,
  "metadata": {
    "colab": {
      "provenance": [],
      "collapsed_sections": [],
      "include_colab_link": true
    },
    "kernelspec": {
      "name": "python3",
      "display_name": "Python 3"
    },
    "language_info": {
      "name": "python"
    }
  },
  "cells": [
    {
      "cell_type": "markdown",
      "metadata": {
        "id": "view-in-github",
        "colab_type": "text"
      },
      "source": [
        "<a href=\"https://colab.research.google.com/github/salacamifda/distance-and-time-starter-code/blob/main/Distance_and_time_Starter_Code.ipynb\" target=\"_parent\"><img src=\"https://colab.research.google.com/assets/colab-badge.svg\" alt=\"Open In Colab\"/></a>"
      ]
    },
    {
      "cell_type": "markdown",
      "metadata": {
        "id": "FM-AQ_LY7Ec_"
      },
      "source": [
        "# Starter Code\n",
        "\n",
        "# Exploring NumPy Arrays: Distance and Time"
      ]
    },
    {
      "cell_type": "markdown",
      "metadata": {
        "id": "KFL-xYXw9hPp"
      },
      "source": [
        "1) Import the numpy library"
      ]
    },
    {
      "cell_type": "code",
      "metadata": {
        "id": "KfK86qGd6_sF"
      },
      "source": [
        "import numpy as np"
      ],
      "execution_count": 2,
      "outputs": []
    },
    {
      "cell_type": "markdown",
      "metadata": {
        "id": "t9qEeja29wDt"
      },
      "source": [
        "2) Create a numpy array called \"distance\" that includes the following distances (in meters): 100, 200, 400, 800, 1500, 3000, 5000, 10000"
      ]
    },
    {
      "cell_type": "code",
      "metadata": {
        "id": "yffkXrYSdvpt"
      },
      "source": [
        "distance = np.array([100, 200, 400, 800, 1500, 3000, 5000, 10000])"
      ],
      "execution_count": 18,
      "outputs": []
    },
    {
      "cell_type": "code",
      "metadata": {
        "id": "RCNbF5yZ7Yu3",
        "colab": {
          "base_uri": "https://localhost:8080/"
        },
        "outputId": "7aca38af-b00f-4271-b7a4-b3d7a3b4c0fd"
      },
      "source": [
        "print(distance)"
      ],
      "execution_count": 4,
      "outputs": [
        {
          "output_type": "stream",
          "name": "stdout",
          "text": [
            "[100, 200, 400, 800, 1500, 3000, 5000, 10000]\n"
          ]
        }
      ]
    },
    {
      "cell_type": "markdown",
      "metadata": {
        "id": "yJJj_-PS9-84"
      },
      "source": [
        "3) Use the np.min() and np.max() functions to find the minimum and maximum distances"
      ]
    },
    {
      "cell_type": "code",
      "metadata": {
        "id": "Cm0h775W7j1I",
        "colab": {
          "base_uri": "https://localhost:8080/"
        },
        "outputId": "2dc8960a-5b5b-4ffa-ad19-b3d438aa2b5e"
      },
      "source": [
        "maxDistance = max(distance)\n",
        "minDistance = min(distance)\n",
        "\n",
        "print(maxDistance)\n",
        "print(minDistance)\n"
      ],
      "execution_count": 8,
      "outputs": [
        {
          "output_type": "stream",
          "name": "stdout",
          "text": [
            "10000\n",
            "100\n"
          ]
        }
      ]
    },
    {
      "cell_type": "markdown",
      "metadata": {
        "id": "1GKAMKM4-D4n"
      },
      "source": [
        "4) To find the average distance, use the np.mean() function"
      ]
    },
    {
      "cell_type": "code",
      "metadata": {
        "id": "eMVVUS7D7qzi",
        "colab": {
          "base_uri": "https://localhost:8080/"
        },
        "outputId": "83ab7f7a-9019-43c8-9731-b0af6b4d3449"
      },
      "source": [
        "averageDistance = np.average(distance)\n",
        "\n",
        "print(averageDistance)"
      ],
      "execution_count": 9,
      "outputs": [
        {
          "output_type": "stream",
          "name": "stdout",
          "text": [
            "2625.0\n"
          ]
        }
      ]
    },
    {
      "cell_type": "markdown",
      "metadata": {
        "id": "jrsIZDBN-Lwg"
      },
      "source": [
        "5) use the np.sum() function to find the total distance"
      ]
    },
    {
      "cell_type": "code",
      "metadata": {
        "id": "hrlC2Z8Q7vFD",
        "colab": {
          "base_uri": "https://localhost:8080/"
        },
        "outputId": "5e9217e2-e39a-44a8-dbe0-db7e3194334c"
      },
      "source": [
        "totalDistance = sum(distance)\n",
        "\n",
        "print(totalDistance)"
      ],
      "execution_count": 10,
      "outputs": [
        {
          "output_type": "stream",
          "name": "stdout",
          "text": [
            "21000\n"
          ]
        }
      ]
    },
    {
      "cell_type": "markdown",
      "metadata": {
        "id": "TZh6JLbu-Qt_"
      },
      "source": [
        "6) Another valuable function is the np.cumsum() function which outputs the cumulative sum...notice the output will be 100, 300, 700 as it adds each new distance"
      ]
    },
    {
      "cell_type": "code",
      "metadata": {
        "id": "zE035Xl574vz",
        "colab": {
          "base_uri": "https://localhost:8080/"
        },
        "outputId": "f0d13e14-4d6a-439b-8e35-c04ee3cce5f5"
      },
      "source": [
        "cumsumDistance = np.cumsum(distance)\n",
        "\n",
        "print(cumsumDistance)"
      ],
      "execution_count": 12,
      "outputs": [
        {
          "output_type": "stream",
          "name": "stdout",
          "text": [
            "[  100   300   700  1500  3000  6000 11000 21000]\n"
          ]
        }
      ]
    },
    {
      "cell_type": "markdown",
      "metadata": {
        "id": "XlxjutTF-XSf"
      },
      "source": [
        "7) To round all of the values in an array, use np.round()"
      ]
    },
    {
      "cell_type": "code",
      "metadata": {
        "id": "hrBA_Qqt8E3V",
        "colab": {
          "base_uri": "https://localhost:8080/"
        },
        "outputId": "bd1d98e5-8b76-478d-8685-b9075fe2ec54"
      },
      "source": [
        "roundDistance = np.round(cumsumDistance)\n",
        "\n",
        "print(roundDistance)\n",
        "\n",
        "arr=np.array([1.57279, 2.0843,  2.795,3.1465])\n",
        "arr1 = np.round(arr)\n",
        "\n",
        "print(arr1)"
      ],
      "execution_count": 15,
      "outputs": [
        {
          "output_type": "stream",
          "name": "stdout",
          "text": [
            "[  100   300   700  1500  3000  6000 11000 21000]\n",
            "[2. 2. 3. 3.]\n"
          ]
        }
      ]
    },
    {
      "cell_type": "markdown",
      "metadata": {
        "id": "-wL-9Gl0-eSo"
      },
      "source": [
        "8) Create a numpy array called time that includes the following times (in seconds):  10.62, 21.34, 48.25, 113.43, 233.96, 506.53, 866.17, 1757.45"
      ]
    },
    {
      "cell_type": "code",
      "metadata": {
        "id": "KFwp2lb88KgE",
        "colab": {
          "base_uri": "https://localhost:8080/"
        },
        "outputId": "c39a7e5f-c629-4fd1-bd01-f99d6cf1b741"
      },
      "source": [
        "time = np.array([10.62, 21.34, 48.25, 113.43, 233.96, 506.53, 866.17, 1757.45])\n",
        "\n",
        "print(time)"
      ],
      "execution_count": 17,
      "outputs": [
        {
          "output_type": "stream",
          "name": "stdout",
          "text": [
            "[  10.62   21.34   48.25  113.43  233.96  506.53  866.17 1757.45]\n"
          ]
        }
      ]
    },
    {
      "cell_type": "markdown",
      "metadata": {
        "id": "MFspcIAi-kJY"
      },
      "source": [
        "9) the values in your time array correspond to olympic records for running the corresponding distances.  Perform the calculation needed to find the speed (in m/s) for each record distance.  Note that speed is distance divided by time."
      ]
    },
    {
      "cell_type": "code",
      "metadata": {
        "id": "VacJ48K3-jwq",
        "colab": {
          "base_uri": "https://localhost:8080/"
        },
        "outputId": "28a30cc1-cc91-4a3c-a701-21d169f084b6"
      },
      "source": [
        "speed = distance/time\n",
        "\n",
        "print(distance)\n",
        "print(time)\n",
        "print(speed)\n",
        "print(np.round(speed))"
      ],
      "execution_count": 23,
      "outputs": [
        {
          "output_type": "stream",
          "name": "stdout",
          "text": [
            "[  100   200   400   800  1500  3000  5000 10000]\n",
            "[  10.62   21.34   48.25  113.43  233.96  506.53  866.17 1757.45]\n",
            "[9.41619586 9.37207123 8.29015544 7.0528079  6.41135237 5.92265019\n",
            " 5.77253888 5.69006231]\n",
            "[9. 9. 8. 7. 6. 6. 6. 6.]\n"
          ]
        }
      ]
    },
    {
      "cell_type": "markdown",
      "metadata": {
        "id": "BRURQ2P3-oXv"
      },
      "source": [
        "10) One common problem data scientists run into is that we are given information in units that are not consistent.  \n",
        "For example, we might want to compare data that is given in meters to second to data that is given in miles per hour. A cheetah is the fastest land animal which can reach speeds of 75.0 miles per hour.  \n",
        "In order to compare our olympians to a cheetah, we need to be able to convert from one unit to another.\n",
        "Perform calculations to convert the olympic record speeds from meters/second into miles per hour.  Note: 1 meter = 0.00062 miles\n",
        "\n",
        "How do our olympians compare to the cheetah?\n",
        "\n",
        "(Hint: Speed in m/s multiplied by 0.00062 and multiplied by 3600 will give speed in miles per hour)"
      ]
    },
    {
      "cell_type": "code",
      "metadata": {
        "id": "8LehjzOx8YY0",
        "colab": {
          "base_uri": "https://localhost:8080/"
        },
        "outputId": "4d0a6417-aef3-4b0d-cac6-6bcd112192c5"
      },
      "source": [
        "distanceMiles = distance* 0.00062\n",
        "print(\"Distance in meters\")\n",
        "print(distance)\n",
        "print(\"Distance in miles\")\n",
        "print(distanceMiles)\n",
        "\n",
        "\n",
        "print(\"------------------------------------------\")\n",
        "timeHours = time/3600\n",
        "print(\"Time in seconds\")\n",
        "print(time)\n",
        "print(\"Time in hours\")\n",
        "print(timeHours)\n",
        "print(\"------------------------------------------\")\n",
        "\n",
        "\n",
        "print(\"--------------Speed in Meters per second----------------------------\")\n",
        "print(speed)\n",
        "print(\"--------------Speed in Miles per Hour----------------------------\")\n",
        "speedMH = distanceMiles/timeHours\n",
        "print(speedMH)\n",
        "print(\"------------------------------------------\")\n"
      ],
      "execution_count": 42,
      "outputs": [
        {
          "output_type": "stream",
          "name": "stdout",
          "text": [
            "Distance in meters\n",
            "[  100   200   400   800  1500  3000  5000 10000]\n",
            "Distance in miles\n",
            "[0.062 0.124 0.248 0.496 0.93  1.86  3.1   6.2  ]\n",
            "------------------------------------------\n",
            "Time in seconds\n",
            "[  10.62   21.34   48.25  113.43  233.96  506.53  866.17 1757.45]\n",
            "Time in hours\n",
            "[0.00295    0.00592778 0.01340278 0.03150833 0.06498889 0.14070278\n",
            " 0.24060278 0.48818056]\n",
            "------------------------------------------\n",
            "--------------Speed in Meters per second----------------------------\n",
            "[9.41619586 9.37207123 8.29015544 7.0528079  6.41135237 5.92265019\n",
            " 5.77253888 5.69006231]\n",
            "--------------Speed in Miles per Hour----------------------------\n",
            "[21.01694915 20.91846298 18.50362694 15.74186723 14.31013849 13.21935522\n",
            " 12.88430678 12.70021907]\n",
            "------------------------------------------\n"
          ]
        }
      ]
    },
    {
      "cell_type": "markdown",
      "source": [
        "Chettah is around 59 miles/hours faster than our Olympians"
      ],
      "metadata": {
        "id": "y-rM3WwwpI7Y"
      }
    },
    {
      "cell_type": "code",
      "source": [
        "speedAverage = np.average(speedMH)\n",
        "print(speedAverage)\n",
        "print(\"------------------------------------------\")\n",
        "\n",
        "cheetahSpeed = 75\n",
        "speedDifference = cheetahSpeed - speedAverage \n",
        "print(np.round(speedDifference))"
      ],
      "metadata": {
        "colab": {
          "base_uri": "https://localhost:8080/"
        },
        "id": "C3LUi3vWtjVr",
        "outputId": "3ebf7e13-439f-44ab-fa2c-9ed023864b88"
      },
      "execution_count": 44,
      "outputs": [
        {
          "output_type": "stream",
          "name": "stdout",
          "text": [
            "16.161865731998713\n",
            "------------------------------------------\n",
            "59.0\n"
          ]
        }
      ]
    }
  ]
}